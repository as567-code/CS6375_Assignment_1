{
 "cells": [
  {
   "cell_type": "code",
   "execution_count": 27,
   "id": "040e057a-8d20-4903-8de5-addc89d9a264",
   "metadata": {},
   "outputs": [
    {
     "name": "stdout",
     "output_type": "stream",
     "text": [
      "      Dataset  Number of Examples\n",
      "0    Training                8000\n",
      "1  Validation                 800\n",
      "2        Test                 800\n"
     ]
    }
   ],
   "source": [
    "import json\n",
    "import pandas as pd\n",
    "\n",
    "# File paths\n",
    "train_file = '/Users/sidha/Downloads/ML_Assignments/CS6375_Assignment_1/training.json'\n",
    "val_file = '/Users/sidha/Downloads/ML_Assignments/CS6375_Assignment_1/validation.json'\n",
    "test_file = '/Users/sidha/Downloads/ML_Assignments/CS6375_Assignment_1/test.json'\n",
    "\n",
    "# Function to count examples in a JSON file\n",
    "def count_examples(file_path):\n",
    "    with open(file_path, 'r') as f:\n",
    "        data = json.load(f)\n",
    "    return len(data)\n",
    "\n",
    "# Counting examples\n",
    "train_count = count_examples(train_file)\n",
    "val_count = count_examples(val_file)\n",
    "test_count = count_examples(test_file)\n",
    "\n",
    "# Creating a summary table\n",
    "data_counts = {\n",
    "    'Dataset': ['Training', 'Validation', 'Test'],\n",
    "    'Number of Examples': [train_count, val_count, test_count]\n",
    "}\n",
    "\n",
    "# Convert to DataFrame\n",
    "counts_df = pd.DataFrame(data_counts)\n",
    "\n",
    "# Display the table\n",
    "print(counts_df)\n"
   ]
  }
 ],
 "metadata": {
  "kernelspec": {
   "display_name": "Python 3 (ipykernel)",
   "language": "python",
   "name": "python3"
  },
  "language_info": {
   "codemirror_mode": {
    "name": "ipython",
    "version": 3
   },
   "file_extension": ".py",
   "mimetype": "text/x-python",
   "name": "python",
   "nbconvert_exporter": "python",
   "pygments_lexer": "ipython3",
   "version": "3.11.7"
  }
 },
 "nbformat": 4,
 "nbformat_minor": 5
}
